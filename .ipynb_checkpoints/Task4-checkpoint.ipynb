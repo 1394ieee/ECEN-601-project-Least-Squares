{
 "cells": [
  {
   "cell_type": "markdown",
   "metadata": {},
   "source": [
    "Task 4\n",
    "(Vandermonde function). When k = 1, we can fit a degree-P polynomial by choosing fj(x)= x^j with j = 0, 1, . . . , P. In this case, it follows that Ai,j = xi^(j−1) and the matrix A becomes a Vandermonde matrix. Implement a function to compute a Vandermonde matrix given the x values and polynomial degree."
   ]
  },
  {
   "cell_type": "code",
   "execution_count": 1,
   "metadata": {},
   "outputs": [],
   "source": [
    "import pandas as pd\n",
    "import math as math\n",
    "import numpy as np\n",
    "import matplotlib.pyplot as plt\n",
    "\n",
    "# define vandermonde function\n",
    "def vand (j, x):\n",
    "    x = np.array(list(x))\n",
    "    j = j\n",
    "    n = len(x)\n",
    "    V = np.zeros((n,j))\n",
    "    for i in range(0,n):\n",
    "        for q in range(0,j):\n",
    "            V[i,q] = x[i]**(q)\n",
    "    #print(V)\n",
    "    return V "
   ]
  },
  {
   "cell_type": "code",
   "execution_count": 2,
   "metadata": {},
   "outputs": [
    {
     "name": "stdout",
     "output_type": "stream",
     "text": [
      "[[ 1.  2.  4.]\n",
      " [ 1.  3.  9.]\n",
      " [ 1.  4. 16.]\n",
      " [ 1.  5. 25.]\n",
      " [ 1.  8. 64.]]\n"
     ]
    }
   ],
   "source": [
    "# show an example whe the degree is 2 and the input x value is [2,3,4,5,8]\n",
    "A=vand (3, [2,3,4,5,8])\n",
    "print(A)"
   ]
  }
 ],
 "metadata": {
  "kernelspec": {
   "display_name": "Python 3",
   "language": "python",
   "name": "python3"
  },
  "language_info": {
   "codemirror_mode": {
    "name": "ipython",
    "version": 3
   },
   "file_extension": ".py",
   "mimetype": "text/x-python",
   "name": "python",
   "nbconvert_exporter": "python",
   "pygments_lexer": "ipython3",
   "version": "3.8.3"
  }
 },
 "nbformat": 4,
 "nbformat_minor": 4
}
