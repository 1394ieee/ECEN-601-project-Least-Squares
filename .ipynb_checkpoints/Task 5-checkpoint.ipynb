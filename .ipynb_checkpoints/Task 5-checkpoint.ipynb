{
 "cells": [
  {
   "cell_type": "markdown",
   "metadata": {},
   "source": [
    "Task 5.\n",
    "Using the setup in the above example, fit the points (1, 2),(2, 3),(3, 5),(4, 7),(5, 11),(6, 13) to a degree-2 polynomial using linear algebra. What is the resulting mean squared error? Plot the resulting polynomial (for x ∈ [0, 7]) along with the data points to see the quality of fit."
   ]
  },
  {
   "cell_type": "code",
   "execution_count": 24,
   "metadata": {},
   "outputs": [],
   "source": [
    "import pandas as pd\n",
    "import math as math\n",
    "import numpy as np\n",
    "import matplotlib.pyplot as plt\n",
    "\n",
    "#define function\n",
    "def vand (j, x):\n",
    "    x = np.array(list(x))\n",
    "    j = j\n",
    "    n = len(x)\n",
    "    V = np.zeros((n,j))\n",
    "    for i in range(0,n):\n",
    "        for q in range(0,j):\n",
    "            V[i,q] = x[i]**(q)\n",
    "    #print(V)\n",
    "    return V "
   ]
  },
  {
   "cell_type": "code",
   "execution_count": 30,
   "metadata": {},
   "outputs": [
    {
     "name": "stdout",
     "output_type": "stream",
     "text": [
      "[0.9        0.68928571 0.23214286]\n"
     ]
    }
   ],
   "source": [
    "#Get matrix and input y value\n",
    "A=vand (3,[1,2,3,4,5,6])\n",
    "y = np.array([2,3,5,7,11,13]) \n",
    "#print(A)\n",
    "\n",
    "#calculate β\n",
    "β=np.dot(A.T,A);\n",
    "β=np.linalg.inv(β);\n",
    "β=np.dot(β,A.T);\n",
    "β=np.dot(β,y)\n",
    "print(β)\n",
    "\n",
    "T5_b = pd.DataFrame(β)\n",
    "T5_b.to_csv('T5_b.csv', index=False) "
   ]
  },
  {
   "cell_type": "code",
   "execution_count": 26,
   "metadata": {},
   "outputs": [
    {
     "data": {
      "image/png": "[encoded data removed]",
      "text/plain": [
       "<Figure size 432x288 with 1 Axes>"
      ]
     },
     "metadata": {
      "needs_background": "light"
     },
     "output_type": "display_data"
    }
   ],
   "source": [
    "import sympy as sy\n",
    "from sympy import series, Symbol\n",
    "from sympy.functions import sin, cos, exp\n",
    "from sympy.plotting import plot\n",
    "from sympy import lambdify\n",
    "from numpy import linspace\n",
    "\n",
    "# get the approximation function \n",
    "x, y, z = sy.symbols('x y z')\n",
    "X=[]\n",
    "for P in range(0,3,1):\n",
    "    B = np.power(x,P)\n",
    "    X.append(B)\n",
    "\n",
    "p=sum(X*β)\n",
    "\n",
    "#calculate and plot the real value on the approximation function\n",
    "\n",
    "lam_x = lambdify(x, p, modules=['numpy'])\n",
    "x_vals = linspace(0, 7, 100)\n",
    "y_vals = lam_x(x_vals)\n",
    "a=plt.plot(x_vals, y_vals)\n",
    "a=plt.plot([1,2,3,4,5,6], [2,3,5,7,11,13],'ro')\n",
    "plt.ylabel(\"y\")\n",
    "plt.xlabel(\"x\")\n",
    "plt.title(\"input data points on the fitted polynomial\")\n",
    "plt.savefig('T5_1.png')\n",
    "plt.show()"
   ]
  },
  {
   "cell_type": "code",
   "execution_count": 27,
   "metadata": {},
   "outputs": [
    {
     "name": "stdout",
     "output_type": "stream",
     "text": [
      "The Mean Square Error is:  0.18214285714285697\n"
     ]
    }
   ],
   "source": [
    "#show the fitted polynomial\n",
    "x_vals = np.array([1,2,3,4,5,6])\n",
    "y_vals = lam_x(x_vals)\n",
    "mse=(np.square(np.subtract([2,3,5,7,11,13],y_vals)).mean())\n",
    "#show the MSE value\n",
    "print(\"The Mean Square Error is: \" , mse)\n",
    "#print(y_vals)"
   ]
  }
 ],
 "metadata": {
  "kernelspec": {
   "display_name": "Python 3",
   "language": "python",
   "name": "python3"
  },
  "language_info": {
   "codemirror_mode": {
    "name": "ipython",
    "version": 3
   },
   "file_extension": ".py",
   "mimetype": "text/x-python",
   "name": "python",
   "nbconvert_exporter": "python",
   "pygments_lexer": "ipython3",
   "version": "3.8.3"
  }
 },
 "nbformat": 4,
 "nbformat_minor": 4
}
