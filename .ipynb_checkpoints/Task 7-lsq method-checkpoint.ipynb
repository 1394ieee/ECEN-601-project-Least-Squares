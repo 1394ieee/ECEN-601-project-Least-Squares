{
 "cells": [
  {
   "cell_type": "markdown",
   "metadata": {},
   "source": [
    "Task 7.\n",
    "In this problem, we will use least-squares via linear algebra to train a linear classifier to distinguish between handwritten 0’s and 1’s. First, extract the indices of all the 0’s and randomly separate the samples into equal-sized training and testing groups. Second, do the same for the 1’s.\n",
    "Now, extend each vector to length 785 by prepend a −1. This will allow the system to learn a general hyperplane separation. Now, use least squares to find a linear function that tries to map 0-samples to −1 and 1-samples to +1. Try also solving this problem with cyclic partial gradient descent and compare the two methods. For the resulting linear function, report the classification error rate and confusion matrices for both the training and test sets. Also, for the test set, compute the histogram of the function output separately for each class and then plot the two histograms together. This shows easy or hard it is to separate the two classes.\n",
    "Note: If the A matrix is not full-rank (e.g., suppose a single pixel is 0 for all samples) then the AT A matrix will be singular. In this case, the NumPy function np.linalg.lstsq still finds a reasonable (i.e., minimum-norm) least-squares solution."
   ]
  },
  {
   "cell_type": "code",
   "execution_count": 1,
   "metadata": {},
   "outputs": [],
   "source": [
    "import pandas as pd\n",
    "import math as math\n",
    "import numpy as np\n",
    "import sympy as sy\n",
    "from sympy import series, Symbol\n",
    "from sympy.functions import sin, cos, exp\n",
    "from sympy.plotting import plot\n",
    "from sympy import lambdify\n",
    "from numpy import linspace\n",
    "import matplotlib.pyplot as plt\n",
    "import sklearn\n",
    "from sklearn.model_selection import train_test_split"
   ]
  },
  {
   "cell_type": "code",
   "execution_count": 2,
   "metadata": {},
   "outputs": [
    {
     "data": {
      "text/html": [
       "<div>\n",
       "<style scoped>\n",
       "    .dataframe tbody tr th:only-of-type {\n",
       "        vertical-align: middle;\n",
       "    }\n",
       "\n",
       "    .dataframe tbody tr th {\n",
       "        vertical-align: top;\n",
       "    }\n",
       "\n",
       "    .dataframe thead th {\n",
       "        text-align: right;\n",
       "    }\n",
       "</style>\n",
       "<table border=\"1\" class=\"dataframe\">\n",
       "  <thead>\n",
       "    <tr style=\"text-align: right;\">\n",
       "      <th></th>\n",
       "      <th>feature</th>\n",
       "      <th>label</th>\n",
       "    </tr>\n",
       "  </thead>\n",
       "  <tbody>\n",
       "    <tr>\n",
       "      <th>0</th>\n",
       "      <td>[-1, 0, 0, 0, 0, 0, 0, 0, 0, 0, 0, 0, 0, 0, 0,...</td>\n",
       "      <td>1</td>\n",
       "    </tr>\n",
       "    <tr>\n",
       "      <th>1</th>\n",
       "      <td>[-1, 0, 0, 0, 0, 0, 0, 0, 0, 0, 0, 0, 0, 0, 0,...</td>\n",
       "      <td>0</td>\n",
       "    </tr>\n",
       "    <tr>\n",
       "      <th>2</th>\n",
       "      <td>[-1, 0, 0, 0, 0, 0, 0, 0, 0, 0, 0, 0, 0, 0, 0,...</td>\n",
       "      <td>1</td>\n",
       "    </tr>\n",
       "    <tr>\n",
       "      <th>3</th>\n",
       "      <td>[-1, 0, 0, 0, 0, 0, 0, 0, 0, 0, 0, 0, 0, 0, 0,...</td>\n",
       "      <td>4</td>\n",
       "    </tr>\n",
       "    <tr>\n",
       "      <th>4</th>\n",
       "      <td>[-1, 0, 0, 0, 0, 0, 0, 0, 0, 0, 0, 0, 0, 0, 0,...</td>\n",
       "      <td>0</td>\n",
       "    </tr>\n",
       "    <tr>\n",
       "      <th>...</th>\n",
       "      <td>...</td>\n",
       "      <td>...</td>\n",
       "    </tr>\n",
       "    <tr>\n",
       "      <th>41995</th>\n",
       "      <td>[-1, 0, 0, 0, 0, 0, 0, 0, 0, 0, 0, 0, 0, 0, 0,...</td>\n",
       "      <td>0</td>\n",
       "    </tr>\n",
       "    <tr>\n",
       "      <th>41996</th>\n",
       "      <td>[-1, 0, 0, 0, 0, 0, 0, 0, 0, 0, 0, 0, 0, 0, 0,...</td>\n",
       "      <td>1</td>\n",
       "    </tr>\n",
       "    <tr>\n",
       "      <th>41997</th>\n",
       "      <td>[-1, 0, 0, 0, 0, 0, 0, 0, 0, 0, 0, 0, 0, 0, 0,...</td>\n",
       "      <td>7</td>\n",
       "    </tr>\n",
       "    <tr>\n",
       "      <th>41998</th>\n",
       "      <td>[-1, 0, 0, 0, 0, 0, 0, 0, 0, 0, 0, 0, 0, 0, 0,...</td>\n",
       "      <td>6</td>\n",
       "    </tr>\n",
       "    <tr>\n",
       "      <th>41999</th>\n",
       "      <td>[-1, 0, 0, 0, 0, 0, 0, 0, 0, 0, 0, 0, 0, 0, 0,...</td>\n",
       "      <td>9</td>\n",
       "    </tr>\n",
       "  </tbody>\n",
       "</table>\n",
       "<p>42000 rows × 2 columns</p>\n",
       "</div>"
      ],
      "text/plain": [
       "                                                 feature  label\n",
       "0      [-1, 0, 0, 0, 0, 0, 0, 0, 0, 0, 0, 0, 0, 0, 0,...      1\n",
       "1      [-1, 0, 0, 0, 0, 0, 0, 0, 0, 0, 0, 0, 0, 0, 0,...      0\n",
       "2      [-1, 0, 0, 0, 0, 0, 0, 0, 0, 0, 0, 0, 0, 0, 0,...      1\n",
       "3      [-1, 0, 0, 0, 0, 0, 0, 0, 0, 0, 0, 0, 0, 0, 0,...      4\n",
       "4      [-1, 0, 0, 0, 0, 0, 0, 0, 0, 0, 0, 0, 0, 0, 0,...      0\n",
       "...                                                  ...    ...\n",
       "41995  [-1, 0, 0, 0, 0, 0, 0, 0, 0, 0, 0, 0, 0, 0, 0,...      0\n",
       "41996  [-1, 0, 0, 0, 0, 0, 0, 0, 0, 0, 0, 0, 0, 0, 0,...      1\n",
       "41997  [-1, 0, 0, 0, 0, 0, 0, 0, 0, 0, 0, 0, 0, 0, 0,...      7\n",
       "41998  [-1, 0, 0, 0, 0, 0, 0, 0, 0, 0, 0, 0, 0, 0, 0,...      6\n",
       "41999  [-1, 0, 0, 0, 0, 0, 0, 0, 0, 0, 0, 0, 0, 0, 0,...      9\n",
       "\n",
       "[42000 rows x 2 columns]"
      ]
     },
     "execution_count": 2,
     "metadata": {},
     "output_type": "execute_result"
    }
   ],
   "source": [
    "### loads the MNIST training data and plots the first 30 images.\n",
    "# Read MNIST csv file into dataframe\n",
    "df = pd.read_csv('mnist_train.csv')\n",
    "#df2 = pd.DataFrame(-255*np.ones(len(df.pixel1)),columns=list('a'))\n",
    "\n",
    "# to insert -1 prepend\n",
    "df.insert(1, \"a\", -1) \n",
    "# Merge pixels into feature column and keep only feature\n",
    "#axis 1 apply function to each row\n",
    "df ['feature'] = df.apply(lambda row: row.values [1 :], axis =1)\n",
    "df = df[['feature','label']]\n",
    "df"
   ]
  },
  {
   "cell_type": "code",
   "execution_count": 3,
   "metadata": {},
   "outputs": [],
   "source": [
    "#First, extract the indices of all the 0’s \n",
    "#and randomly separate the samples into equal-sized training and testing groups.\n",
    "zero=df.loc[lambda df: df['label'] == 0, :]\n",
    "train0, test0 =train_test_split(zero, train_size = 0.5)\n",
    "#msk = np.random.rand(len(zero)) < 0.5\n",
    "#train0 = zero[msk]\n",
    "#test0 = zero[~msk]\n",
    "#train0\n",
    "train0_label=train0.label\n",
    "train0_feature=train0.feature\n",
    "test0_label=test0.label\n",
    "test0_feature=test0.feature\n",
    "\n",
    "##do the same for the 1’s.\n",
    "one=df.loc[lambda df: df['label'] == 1, :]\n",
    "train1, test1 =train_test_split(one, train_size = 0.5)\n",
    "#msk1 = np.random.rand(len(one)) < 0.5\n",
    "#train1 = one[msk1]\n",
    "#test1 = one[~msk1]\n",
    "train1_label=train1.label\n",
    "train1_feature=train1.feature\n",
    "test1_label=test1.label\n",
    "test1_feature=test1.feature\n",
    "\n",
    "# group test 0,1 together and train 0,1 together\n",
    "test_feature =np.hstack([np.array(test0_feature), np.array(test1_feature)])/255 \n",
    "train_feature =np.hstack([train0_feature, train1_feature])/255\n",
    "test_label =np.hstack([np.array(test0_label),np.array(test1_label)]) \n",
    "train_label =np.hstack([train0_label, train1_label])"
   ]
  },
  {
   "cell_type": "code",
   "execution_count": 19,
   "metadata": {},
   "outputs": [
    {
     "name": "stdout",
     "output_type": "stream",
     "text": [
      "The is classification error rate is 0.24160617059891107\n",
      "Predicted    -1     1\n",
      "Actual               \n",
      "-1         2066     0\n",
      " 1         1065  1277\n"
     ]
    }
   ],
   "source": [
    "##Train set of 0,1\n",
    "A=np.vstack(train_feature)\n",
    "Y=np.vstack(train_label)\n",
    "soln=np.linalg.lstsq(A, Y,rcond=None)[0]\n",
    "l=len(A)\n",
    "X=[]\n",
    "for i in range(0,l,1):\n",
    "    p=np.dot(np.array(train_feature[i]),np.array(soln))\n",
    "    X.append(p)\n",
    "#print(X)\n",
    "def LSclassifier(x):\n",
    "    if x < 1:\n",
    "        return -1\n",
    "    else:\n",
    "        return 1\n",
    "    return x\n",
    "TrainOutput=[LSclassifier(x) for x in X]\n",
    "#print(TrainOutput)\n",
    "# classification error rate\n",
    "def Labelclass(x):\n",
    "    if x ==0:\n",
    "        return -1\n",
    "    else:\n",
    "        return 1\n",
    "    return x\n",
    "TrainClass=[Labelclass(x) for x in Y]\n",
    "#print(TrainClass)\n",
    "cer=np.count_nonzero(np.array(TrainClass)-np.array(TrainOutput))\n",
    "rate= cer/len(Y)\n",
    "print(\"The is classification error rate is\",rate)\n",
    "#matrix\n",
    "import pandas as pd\n",
    "data = {'y_Actual':    np.array(TrainClass),\n",
    "        'y_Predicted': np.array(TrainOutput)\n",
    "        }\n",
    "dfm = pd.DataFrame(data, columns=['y_Actual','y_Predicted'])\n",
    "confusion_matrix = pd.crosstab(dfm['y_Actual'], dfm['y_Predicted'], rownames=['Actual'], colnames=['Predicted'])\n",
    "print (confusion_matrix)\n",
    "T7_Confusion_Matrix_Train = pd.DataFrame(confusion_matrix)\n",
    "T7_Confusion_Matrix_Train.to_csv('T7_Confusion_Matrix_Train.csv', index=False) "
   ]
  },
  {
   "cell_type": "code",
   "execution_count": 18,
   "metadata": {},
   "outputs": [
    {
     "name": "stdout",
     "output_type": "stream",
     "text": [
      "The is classification error rate is 0.24092558983666063\n",
      "Predicted    -1     1\n",
      "Actual               \n",
      "-1         2060     6\n",
      " 1         1056  1286\n"
     ]
    }
   ],
   "source": [
    "##Test Session\n",
    "X=[]\n",
    "for i in range(0,l,1):\n",
    "    p=np.dot(np.array(test_feature[i]),np.array(soln))\n",
    "    X.append(p)\n",
    "#print(X)\n",
    "def LSclassifier(x):\n",
    "    if x < 1.0:\n",
    "        return -1\n",
    "    else:\n",
    "        return 1\n",
    "    return x\n",
    "TestOutput=[LSclassifier(x) for x in X]\n",
    "#print(TestOutput)\n",
    "# classification error rate\n",
    "Y=np.array(test_label)\n",
    "def Labelclass(x):\n",
    "    if x ==0:\n",
    "        return -1\n",
    "    else:\n",
    "        return 1\n",
    "    return x\n",
    "TestClass=[Labelclass(x) for x in Y]\n",
    "#print(TestClass)\n",
    "cer=np.count_nonzero(np.array(TestClass)-np.array(TestOutput))\n",
    "rate= cer/len(Y)\n",
    "print(\"The is classification error rate is\",rate)\n",
    "#print(cer)\n",
    "#matrix\n",
    "import pandas as pd\n",
    "data = {'y_Actual':    np.array(TestClass),\n",
    "        'y_Predicted': np.array(TestOutput)\n",
    "        }\n",
    "df = pd.DataFrame(data, columns=['y_Actual','y_Predicted'])\n",
    "confusion_matrix = pd.crosstab(df['y_Actual'], df['y_Predicted'], rownames=['Actual'], colnames=['Predicted'])\n",
    "print (confusion_matrix)\n",
    "T7_Confusion_Matrix_Test = pd.DataFrame(confusion_matrix)\n",
    "T7_Confusion_Matrix_Test.to_csv('T7_Confusion_Matrix_Test.csv', index=False)"
   ]
  },
  {
   "cell_type": "code",
   "execution_count": 15,
   "metadata": {},
   "outputs": [
    {
     "data": {
      "image/png": "[encoded data removed]",
      "text/plain": [
       "<Figure size 432x288 with 1 Axes>"
      ]
     },
     "metadata": {
      "needs_background": "light"
     },
     "output_type": "display_data"
    }
   ],
   "source": [
    "##histogram\n",
    "bins = np.linspace(-1, 1, 10)\n",
    "plt.hist([TrainOutput,TrainClass,TestOutput,TestClass], bins, label=['TrainOutput','TrainClass','TestOutput','TestClass'])\n",
    "plt.legend(loc='upper right')\n",
    "plt.ylabel('number of output number ')\n",
    "plt.xlabel('class of output number')\n",
    "plt.savefig('T7_1.png')\n",
    "plt.show()"
   ]
  }
 ],
 "metadata": {
  "kernelspec": {
   "display_name": "Python 3",
   "language": "python",
   "name": "python3"
  },
  "language_info": {
   "codemirror_mode": {
    "name": "ipython",
    "version": 3
   },
   "file_extension": ".py",
   "mimetype": "text/x-python",
   "name": "python",
   "nbconvert_exporter": "python",
   "pygments_lexer": "ipython3",
   "version": "3.8.3"
  }
 },
 "nbformat": 4,
 "nbformat_minor": 4
}
