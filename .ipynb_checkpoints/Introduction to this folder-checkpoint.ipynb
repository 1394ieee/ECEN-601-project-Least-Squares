{
 "cells": [
  {
   "cell_type": "markdown",
   "metadata": {},
   "source": [
    "# Introduction to this code folder"
   ]
  },
  {
   "cell_type": "markdown",
   "metadata": {},
   "source": [
    "Each Task is corresponded to each file named as Task_i.\n",
    "The Project File is a draft file, which can be ignore.\n",
    "The saved figure are all inserted to the submitted paper.\n",
    "The Fit Coefficient beta for Task 5 and 6 are shown in Task_5/6_B. CVS file\n",
    "The Classification error, Confusion Matrix for Task 7 and 8 is inside the code file, the results of Task 7 can also be found in the submitted paper. \n",
    "The Classification error, Confusion Matrix for Task 9 is in .CVS file under the name of Task9_..."
   ]
  }
 ],
 "metadata": {
  "kernelspec": {
   "display_name": "Python 3",
   "language": "python",
   "name": "python3"
  },
  "language_info": {
   "codemirror_mode": {
    "name": "ipython",
    "version": 3
   },
   "file_extension": ".py",
   "mimetype": "text/x-python",
   "name": "python",
   "nbconvert_exporter": "python",
   "pygments_lexer": "ipython3",
   "version": "3.8.3"
  }
 },
 "nbformat": 4,
 "nbformat_minor": 4
}
