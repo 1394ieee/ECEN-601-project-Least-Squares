{
 "cells": [
  {
   "cell_type": "markdown",
   "metadata": {},
   "source": [
    "Task 3\n",
    "Define another model by finding the best approximation of sin(x) over [0,10] by vectors in {1, x, . . . , x^10}. This will required a different inner product. Evaluate how well this model does with respect to (4)."
   ]
  },
  {
   "cell_type": "code",
   "execution_count": 1,
   "metadata": {},
   "outputs": [],
   "source": [
    "import pandas as pd\n",
    "import math as math\n",
    "import numpy as np\n",
    "import matplotlib.pyplot as plt\n",
    "import sympy as sy\n",
    "from sympy import series, Symbol\n",
    "from sympy.functions import sin, cos, exp\n",
    "from sympy.plotting import plot\n",
    "from sympy import  integrate"
   ]
  },
  {
   "cell_type": "code",
   "execution_count": 4,
   "metadata": {},
   "outputs": [],
   "source": [
    "x, y, z = sy.symbols('x y z')\n",
    "Ig=[]\n",
    "If=[]\n",
    "X=[]\n",
    "for P in range(0,11,1):\n",
    "    B = np.power(x,P)\n",
    "    g = B*B\n",
    "    f = sin(x)*B\n",
    "    intg = integrate(g,(x, 0, 10))  # integrate from 0 to 10\n",
    "    intf = integrate(f,(x, 0, 10))\n",
    "    X.append(B)\n",
    "    Ig.append(intg)\n",
    "    If.append(intf)"
   ]
  },
  {
   "cell_type": "code",
   "execution_count": 5,
   "metadata": {},
   "outputs": [
    {
     "name": "stdout",
     "output_type": "stream",
     "text": [
      "[10, 1000/3, 20000, 10000000/7, 1000000000/9, 100000000000/11, 10000000000000/13, 200000000000000/3, 100000000000000000/17, 10000000000000000000/19, 1000000000000000000000/21]\n",
      "[1 - cos(10), sin(10) - 10*cos(10), 20*sin(10) - 2 - 98*cos(10), 294*sin(10) - 940*cos(10), 3760*sin(10) + 24 - 8824*cos(10), 44120*sin(10) - 81200*cos(10), 487200*sin(10) - 720 - 735280*cos(10), 5146960*sin(10) - 6589600*cos(10), 52716800*sin(10) + 40320 - 58824320*cos(10), 529418880*sin(10) - 525548800*cos(10), 5255488000*sin(10) - 3628800 - 4705811200*cos(10)]\n",
      "[1, x, x**2, x**3, x**4, x**5, x**6, x**7, x**8, x**9, x**10]\n"
     ]
    }
   ],
   "source": [
    "print(Ig) # Denominator value\n",
    "print(If) # Numerator value\n",
    "print(X)  # up to 10 degree"
   ]
  },
  {
   "cell_type": "code",
   "execution_count": 6,
   "metadata": {},
   "outputs": [
    {
     "name": "stdout",
     "output_type": "stream",
     "text": [
      "x**10*(1724457*sin(10)/15625000000000000 - 11907/156250000000000000 - 15440943*cos(10)/156250000000000000) + x**9*(15717123*sin(10)/15625000000000000 - 1560223*cos(10)/1562500000000000) + x**8*(140029*sin(10)/15625000000000 + 1071/156250000000000 - 1562521*cos(10)/156250000000000) + x**7*(193011*sin(10)/2500000000000 - 24711*cos(10)/250000000000) + x**6*(7917*sin(10)/12500000000 - 117/125000000000 - 119483*cos(10)/125000000000) + x**5*(12133*sin(10)/2500000000 - 2233*cos(10)/250000000) + x**4*(423*sin(10)/12500000 + 27/125000000 - 9927*cos(10)/125000000) + x**3*(1029*sin(10)/5000000 - 329*cos(10)/500000) + x**2*(sin(10)/1000 - 1/10000 - 49*cos(10)/10000) + x*(3*sin(10)/1000 - 3*cos(10)/100) - cos(10)/10 + 1/10\n"
     ]
    }
   ],
   "source": [
    "If = np.array(If);Ig = np.array(Ig);X = np.array(X);\n",
    "P=(If/Ig)\n",
    "#approximate function\n",
    "Apf=P*X\n",
    "Apf=sum(Apf)\n",
    "print(Apf)"
   ]
  },
  {
   "cell_type": "code",
   "execution_count": 7,
   "metadata": {},
   "outputs": [
    {
     "name": "stdout",
     "output_type": "stream",
     "text": [
      "(-x**10*(1724457*sin(10)/15625000000000000 - 11907/156250000000000000 - 15440943*cos(10)/156250000000000000) - x**9*(15717123*sin(10)/15625000000000000 - 1560223*cos(10)/1562500000000000) - x**8*(140029*sin(10)/15625000000000 + 1071/156250000000000 - 1562521*cos(10)/156250000000000) - x**7*(193011*sin(10)/2500000000000 - 24711*cos(10)/250000000000) - x**6*(7917*sin(10)/12500000000 - 117/125000000000 - 119483*cos(10)/125000000000) - x**5*(12133*sin(10)/2500000000 - 2233*cos(10)/250000000) - x**4*(423*sin(10)/12500000 + 27/125000000 - 9927*cos(10)/125000000) - x**3*(1029*sin(10)/5000000 - 329*cos(10)/500000) - x**2*(sin(10)/1000 - 1/10000 - 49*cos(10)/10000) - x*(3*sin(10)/1000 - 3*cos(10)/100) + sin(x) - 1/10 + cos(10)/10)**2\n"
     ]
    }
   ],
   "source": [
    "# square of differeces\n",
    "y=(sin(x)-Apf)**2\n",
    "print(y)"
   ]
  },
  {
   "cell_type": "code",
   "execution_count": 8,
   "metadata": {
    "scrolled": true
   },
   "outputs": [
    {
     "name": "stdout",
     "output_type": "stream",
     "text": [
      "-151925993478510616922917*sin(10)*cos(10)/2841706054687500000000 + 3914419078683213823817*sin(10)/2841706054687500000000 - 314685058869697897/2960110473632812500 - 74188832638992518477*cos(10)/31574511718750000000 + 31933590669913904857*sin(10)**2/1578725585937500000 + 399227943856445383643*cos(10)**2/8119160156250000000\n"
     ]
    }
   ],
   "source": [
    "#find the mse value\n",
    "mse= integrate(y,(x,0,10))\n",
    "print(mse)"
   ]
  },
  {
   "cell_type": "code",
   "execution_count": 9,
   "metadata": {},
   "outputs": [
    {
     "name": "stdout",
     "output_type": "stream",
     "text": [
      "mse valuei is 17.3164117849\n"
     ]
    }
   ],
   "source": [
    "# so the value of mse is\n",
    "mse=17.3164117849\n",
    "print(\"mse valuei is\",mse)"
   ]
  }
 ],
 "metadata": {
  "kernelspec": {
   "display_name": "Python 3",
   "language": "python",
   "name": "python3"
  },
  "language_info": {
   "codemirror_mode": {
    "name": "ipython",
    "version": 3
   },
   "file_extension": ".py",
   "mimetype": "text/x-python",
   "name": "python",
   "nbconvert_exporter": "python",
   "pygments_lexer": "ipython3",
   "version": "3.8.3"
  }
 },
 "nbformat": 4,
 "nbformat_minor": 4
}
