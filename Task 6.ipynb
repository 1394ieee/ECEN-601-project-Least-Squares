{
 "cells": [
  {
   "cell_type": "markdown",
   "metadata": {},
   "source": [
    "Task 6.\n",
    "Using the setup in the previous problem, fit the given points to a degree-2 polynomial using cyclic partial gradient descent. For the fixed step size γt = 0.0002, determine a value of T such that β(T) achieves a mean squared error that is at most 20% larger than the previous answer. Plot this polynomial (for x ∈ [0, 7]) along the previous polynomial and the data points."
   ]
  },
  {
   "cell_type": "code",
   "execution_count": null,
   "metadata": {},
   "outputs": [],
   "source": [
    "import pandas as pd\n",
    "import math as math\n",
    "import numpy as np\n",
    "import sympy as sy\n",
    "from sympy import series, Symbol\n",
    "from sympy.functions import sin, cos, exp\n",
    "from sympy.plotting import plot\n",
    "from sympy import lambdify\n",
    "from numpy import linspace\n",
    "import matplotlib.pyplot as plt"
   ]
  },
  {
   "cell_type": "code",
   "execution_count": 5,
   "metadata": {},
   "outputs": [],
   "source": [
    "#define function\n",
    "def vand (j, x):\n",
    "    x = np.array(list(x))\n",
    "    j = j\n",
    "    n = len(x)\n",
    "    V = np.zeros((n,j))\n",
    "    for i in range(0,n):\n",
    "        for q in range(0,j):\n",
    "            V[i,q] = x[i]**(q)\n",
    "    #print(V)\n",
    "    return V \n",
    "#Get matrix \n",
    "A=vand (3,[1,2,3,4,5,6])"
   ]
  },
  {
   "cell_type": "code",
   "execution_count": 37,
   "metadata": {},
   "outputs": [
    {
     "name": "stdout",
     "output_type": "stream",
     "text": [
      "The initial MSE is 62.833333333333336\n",
      "The local minimum occurs at [0.48823819 0.77091045 0.23098976] Iteration 7083 MSE value is 0.21854104040633018\n"
     ]
    }
   ],
   "source": [
    "# set primary parameters for the gradient method\n",
    "MSE = 1.2*0.18214285714285697 # 0.18... get from task 5\n",
    "cur_B=np.array([0,0,0])\n",
    "max_t = 10000 #max. iteration number\n",
    "t=0           #initial iteration number\n",
    "N=6           #number of point\n",
    "r=0.0002     #step size\n",
    "y = np.array([2,3,5,7,11,13]) #input y value\n",
    "\n",
    "# calculate the parameters out when t= 0 for the later iteration loop\n",
    "x, z = sy.symbols('x z')\n",
    "X=[]\n",
    "for P in range(0,3,1):\n",
    "    B = np.power(x,P)\n",
    "    X.append(B)   \n",
    "#print(X)\n",
    "p=sum(X*cur_B)\n",
    "#print(p)\n",
    "lam_x = lambdify(x, p, modules=['numpy'])\n",
    "x_vals = np.array([1,2,3,4,5,6])\n",
    "y_vals = lam_x(x_vals)\n",
    "#print(y_vals)\n",
    "R=(np.square(np.subtract([2,3,5,7,11,13],y_vals)).mean())\n",
    "print(\"The initial MSE is\",R)\n",
    "\n",
    "Rm=[]\n",
    "# iteration loop \n",
    "while (R > MSE) and (t < max_t):\n",
    "    pre_B = cur_B\n",
    "    cur_B=cur_B+r*(y[t%N]-np.dot(A[t%N],cur_B))*A[t%N]\n",
    "    t=t+1\n",
    "    p=sum(X*cur_B)\n",
    "    lam_x = lambdify(x, p, modules=['numpy'])\n",
    "    x_vals = np.array([1,2,3,4,5,6])\n",
    "    y_vals = lam_x(x_vals)\n",
    "    R=(np.square(np.subtract([2,3,5,7,11,13],y_vals)).mean())\n",
    "    Rm.append(R)\n",
    "    #print(\"Iteration\",t,\"\\nβ value is\",cur_B,\"MSE value is\",R)\n",
    "else:\n",
    "    print(\"The local minimum occurs at\", cur_B,\"Iteration\",t,\"MSE value is\",R)\n",
    "    \n",
    "T6_b = pd.DataFrame(cur_B)\n",
    "T6_b.to_csv('T6_b.csv', index=False) "
   ]
  },
  {
   "cell_type": "code",
   "execution_count": 36,
   "metadata": {},
   "outputs": [
    {
     "data": {
      "image/png": "[encoded data removed]",
      "text/plain": [
       "<Figure size 432x288 with 1 Axes>"
      ]
     },
     "metadata": {
      "needs_background": "light"
     },
     "output_type": "display_data"
    }
   ],
   "source": [
    "#plot the output MSE agains the of number iterations\n",
    "Rm.insert(0, 62.83333333333333336)\n",
    "Rm=np.array(Rm)\n",
    "I=[]\n",
    "for i in range(0,7084):\n",
    "    i\n",
    "    I.append(i)\n",
    "\n",
    "I=np.array(I)\n",
    "a=plt.plot(I, Rm)\n",
    "plt.ylabel(\"MSE\")\n",
    "plt.xlabel(\"Iteration\")\n",
    "plt.title(\"Output MSE at each iterations\")\n",
    "plt.savefig('T6_1.png')\n",
    "plt.show()"
   ]
  }
 ],
 "metadata": {
  "kernelspec": {
   "display_name": "Python 3",
   "language": "python",
   "name": "python3"
  },
  "language_info": {
   "codemirror_mode": {
    "name": "ipython",
    "version": 3
   },
   "file_extension": ".py",
   "mimetype": "text/x-python",
   "name": "python",
   "nbconvert_exporter": "python",
   "pygments_lexer": "ipython3",
   "version": "3.8.3"
  }
 },
 "nbformat": 4,
 "nbformat_minor": 4
}
